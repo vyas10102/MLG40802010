{
 "cells": [
  {
   "cell_type": "markdown",
   "id": "325a9298",
   "metadata": {},
   "source": [
    "> **Importing libraries** <br>\n",
    "> for Linear Regression, Gradient Boosting and Random Forest"
   ]
  },
  {
   "cell_type": "code",
   "execution_count": 1,
   "id": "0ac36b89",
   "metadata": {},
   "outputs": [],
   "source": [
    "import pandas as pd\n",
    "from sklearn.model_selection import train_test_split\n",
    "from sklearn.linear_model import LinearRegression\n",
    "from sklearn.metrics import mean_squared_error, r2_score, accuracy_score\n",
    "from sklearn.ensemble import GradientBoostingRegressor, RandomForestRegressor\n",
    "from sklearn.metrics import mean_squared_error, accuracy_score\n",
    "import numpy as np"
   ]
  },
  {
   "cell_type": "markdown",
   "id": "c0e33a2c",
   "metadata": {},
   "source": [
    "> Step 1: Loading the dataset"
   ]
  },
  {
   "cell_type": "code",
   "execution_count": 2,
   "id": "2d42121d",
   "metadata": {},
   "outputs": [],
   "source": [
    "data = pd.read_csv('C:\\\\Users\\\\vyas1\\\\OneDrive\\\\Desktop\\\\GWU\\\\2nd sem\\\\nndl\\\\ML project\\\\Data\\\\new.csv')"
   ]
  },
  {
   "cell_type": "code",
   "execution_count": 3,
   "id": "23e40b45",
   "metadata": {},
   "outputs": [
    {
     "data": {
      "text/html": [
       "<div>\n",
       "<style scoped>\n",
       "    .dataframe tbody tr th:only-of-type {\n",
       "        vertical-align: middle;\n",
       "    }\n",
       "\n",
       "    .dataframe tbody tr th {\n",
       "        vertical-align: top;\n",
       "    }\n",
       "\n",
       "    .dataframe thead th {\n",
       "        text-align: right;\n",
       "    }\n",
       "</style>\n",
       "<table border=\"1\" class=\"dataframe\">\n",
       "  <thead>\n",
       "    <tr style=\"text-align: right;\">\n",
       "      <th></th>\n",
       "      <th>Departure_Delay_Minutes</th>\n",
       "      <th>Arrival_Delay_Minutes</th>\n",
       "      <th>Scheduled_Elapsed_Time_Minutes</th>\n",
       "      <th>Actual_Elapsed_Time_Minutes</th>\n",
       "    </tr>\n",
       "  </thead>\n",
       "  <tbody>\n",
       "    <tr>\n",
       "      <th>count</th>\n",
       "      <td>50000.000000</td>\n",
       "      <td>50000.000000</td>\n",
       "      <td>50000.000000</td>\n",
       "      <td>50000.00000</td>\n",
       "    </tr>\n",
       "    <tr>\n",
       "      <th>mean</th>\n",
       "      <td>9.986680</td>\n",
       "      <td>4.088500</td>\n",
       "      <td>141.790500</td>\n",
       "      <td>135.60202</td>\n",
       "    </tr>\n",
       "    <tr>\n",
       "      <th>std</th>\n",
       "      <td>50.681468</td>\n",
       "      <td>52.382558</td>\n",
       "      <td>71.208865</td>\n",
       "      <td>70.33093</td>\n",
       "    </tr>\n",
       "    <tr>\n",
       "      <th>min</th>\n",
       "      <td>-56.000000</td>\n",
       "      <td>-75.000000</td>\n",
       "      <td>22.000000</td>\n",
       "      <td>17.00000</td>\n",
       "    </tr>\n",
       "    <tr>\n",
       "      <th>25%</th>\n",
       "      <td>-5.000000</td>\n",
       "      <td>-15.000000</td>\n",
       "      <td>90.000000</td>\n",
       "      <td>85.00000</td>\n",
       "    </tr>\n",
       "    <tr>\n",
       "      <th>50%</th>\n",
       "      <td>-2.000000</td>\n",
       "      <td>-7.000000</td>\n",
       "      <td>125.000000</td>\n",
       "      <td>120.00000</td>\n",
       "    </tr>\n",
       "    <tr>\n",
       "      <th>75%</th>\n",
       "      <td>6.000000</td>\n",
       "      <td>6.000000</td>\n",
       "      <td>172.000000</td>\n",
       "      <td>165.00000</td>\n",
       "    </tr>\n",
       "    <tr>\n",
       "      <th>max</th>\n",
       "      <td>2966.000000</td>\n",
       "      <td>2934.000000</td>\n",
       "      <td>675.000000</td>\n",
       "      <td>663.00000</td>\n",
       "    </tr>\n",
       "  </tbody>\n",
       "</table>\n",
       "</div>"
      ],
      "text/plain": [
       "       Departure_Delay_Minutes  Arrival_Delay_Minutes  \\\n",
       "count             50000.000000           50000.000000   \n",
       "mean                  9.986680               4.088500   \n",
       "std                  50.681468              52.382558   \n",
       "min                 -56.000000             -75.000000   \n",
       "25%                  -5.000000             -15.000000   \n",
       "50%                  -2.000000              -7.000000   \n",
       "75%                   6.000000               6.000000   \n",
       "max                2966.000000            2934.000000   \n",
       "\n",
       "       Scheduled_Elapsed_Time_Minutes  Actual_Elapsed_Time_Minutes  \n",
       "count                    50000.000000                  50000.00000  \n",
       "mean                       141.790500                    135.60202  \n",
       "std                         71.208865                     70.33093  \n",
       "min                         22.000000                     17.00000  \n",
       "25%                         90.000000                     85.00000  \n",
       "50%                        125.000000                    120.00000  \n",
       "75%                        172.000000                    165.00000  \n",
       "max                        675.000000                    663.00000  "
      ]
     },
     "execution_count": 3,
     "metadata": {},
     "output_type": "execute_result"
    }
   ],
   "source": [
    "data.describe()"
   ]
  },
  {
   "cell_type": "markdown",
   "id": "cd4938ed",
   "metadata": {},
   "source": [
    "> Step 2: Preprocessing the data <br>\n",
    "> -> We first create a binary target variable <br>\n",
    "> -> And then drop the non-feature columns"
   ]
  },
  {
   "cell_type": "code",
   "execution_count": 4,
   "id": "995444d3",
   "metadata": {},
   "outputs": [],
   "source": [
    "data['is_delayed'] = (data['Arrival_Delay_Minutes'] > 0).astype(int)  \n",
    "features = data.drop(['Arrival_Delay_Minutes', 'is_delayed'], axis=1)"
   ]
  },
  {
   "cell_type": "markdown",
   "id": "2346df12",
   "metadata": {},
   "source": [
    "> We then handle the categorical variable and the missing values <br>\n",
    "> -> Handling the missing values <br>\n",
    "> -> Converting the categorical variables to dummy variables"
   ]
  },
  {
   "cell_type": "code",
   "execution_count": 5,
   "id": "a4314904",
   "metadata": {},
   "outputs": [],
   "source": [
    "features.fillna(method='ffill', inplace=True) \n",
    "features = pd.get_dummies(features)"
   ]
  },
  {
   "cell_type": "markdown",
   "id": "bf9f25fe",
   "metadata": {},
   "source": [
    "> Step 3: Define the target variable"
   ]
  },
  {
   "cell_type": "code",
   "execution_count": 6,
   "id": "7e4b7ad7",
   "metadata": {},
   "outputs": [],
   "source": [
    "target = data['Arrival_Delay_Minutes']"
   ]
  },
  {
   "cell_type": "markdown",
   "id": "b8e1cac5",
   "metadata": {},
   "source": [
    "> Step 4: Spliting data into training and testing sets"
   ]
  },
  {
   "cell_type": "code",
   "execution_count": 7,
   "id": "4cef65f7",
   "metadata": {},
   "outputs": [],
   "source": [
    "X_train, X_test, y_train, y_test = train_test_split(features, target, test_size=0.2, random_state=42)"
   ]
  },
  {
   "cell_type": "markdown",
   "id": "4591387d",
   "metadata": {},
   "source": [
    "> **I. Linear Regression** <br>"
   ]
  },
  {
   "cell_type": "markdown",
   "id": "366f4ed6",
   "metadata": {},
   "source": [
    "> Step 5: Training the Linear Regression Model <br>\n",
    "> Step 6: Predicting and classifying the output by converting actual delay time to binary classes for evaluation"
   ]
  },
  {
   "cell_type": "code",
   "execution_count": 8,
   "id": "27c994bd",
   "metadata": {},
   "outputs": [],
   "source": [
    "model = LinearRegression()\n",
    "model.fit(X_train, y_train)\n",
    "\n",
    "predictions = model.predict(X_test)\n",
    "predicted_classes = [1 if i > 0 else 0 for i in predictions]\n",
    "\n",
    "actual_classes = [1 if i > 0 else 0 for i in y_test]"
   ]
  },
  {
   "cell_type": "markdown",
   "id": "ac1c9559",
   "metadata": {},
   "source": [
    "> Step 7: Evaluating the model and printing the output"
   ]
  },
  {
   "cell_type": "code",
   "execution_count": 10,
   "id": "ddcb66e6",
   "metadata": {},
   "outputs": [
    {
     "name": "stdout",
     "output_type": "stream",
     "text": [
      "MSE: 147.00636925924857\n",
      "RMSE: 12.124618313961417\n",
      "Accuracy: 0.8829\n"
     ]
    }
   ],
   "source": [
    "mse = mean_squared_error(y_test, predictions)\n",
    "rmse = np.sqrt(mse)\n",
    "accuracy = accuracy_score(actual_classes, predicted_classes)\n",
    "\n",
    "print(f\"MSE: {mse}\")\n",
    "print(f\"RMSE: {rmse}\")\n",
    "print(f\"Accuracy: {accuracy}\")"
   ]
  },
  {
   "cell_type": "markdown",
   "id": "bd8dddf7",
   "metadata": {},
   "source": [
    "> Using this algorithm and checking feature importance on weather conditions"
   ]
  },
  {
   "cell_type": "code",
   "execution_count": 23,
   "id": "24ab832f",
   "metadata": {},
   "outputs": [
    {
     "name": "stdout",
     "output_type": "stream",
     "text": [
      "Mean Squared Error: 2563.331731338171\n"
     ]
    },
    {
     "data": {
      "image/png": "[encoded data removed]",
      "text/plain": [
       "<Figure size 1000x600 with 1 Axes>"
      ]
     },
     "metadata": {},
     "output_type": "display_data"
    }
   ],
   "source": [
    "# Feature Engineering\n",
    "data['Scheduled_Departure_Time'] = pd.to_datetime(data['Scheduled_Departure_Time'])\n",
    "data['Scheduled_Arrival_Time'] = pd.to_datetime(data['Scheduled_Arrival_Time'])\n",
    "data['hour_of_day'] = data['Scheduled_Departure_Time'].dt.hour  # Extract hour of day\n",
    "\n",
    "# Adding weather data as a placeholder (this would need actual data integration)\n",
    "data['weather_condition'] = np.random.choice(['Clear', 'Rainy', 'Snowy', 'Stormy'], size=len(data))\n",
    "\n",
    "# Prepare features and target\n",
    "features = data.drop(['Departure_Delay_Minutes'], axis=1)\n",
    "target = data['Departure_Delay_Minutes']\n",
    "\n",
    "# Encoding categorical variables\n",
    "encoder = OneHotEncoder()\n",
    "encoded_features = encoder.fit_transform(features[['weather_condition']])\n",
    "\n",
    "# Split the data into training and testing sets\n",
    "X_train, X_test, y_train, y_test = train_test_split(encoded_features, target, test_size=0.2, random_state=42)\n",
    "\n",
    "# Model Training using Linear Regression\n",
    "lr_model = LinearRegression()\n",
    "lr_model.fit(X_train, y_train)\n",
    "\n",
    "# Predicting the delay minutes\n",
    "lr_predictions = lr_model.predict(X_test)\n",
    "lr_mse = mean_squared_error(y_test, lr_predictions)\n",
    "print(f'Mean Squared Error: {lr_mse}')\n",
    "\n",
    "# Visualize coefficients\n",
    "if isinstance(encoded_features, np.ndarray):\n",
    "    feature_names = ['Feature ' + str(i) for i in range(encoded_features.shape[1])]\n",
    "else:\n",
    "    feature_names = encoder.get_feature_names_out()\n",
    "\n",
    "plt.figure(figsize=(10, 6))\n",
    "plt.bar(feature_names, lr_model.coef_)\n",
    "plt.xlabel('Features')\n",
    "plt.ylabel('Coefficient Value')\n",
    "plt.title('Linear Regression Coefficients')\n",
    "plt.xticks(rotation=90)\n",
    "plt.tight_layout()\n",
    "plt.show()"
   ]
  },
  {
   "cell_type": "markdown",
   "id": "f8ca8952",
   "metadata": {},
   "source": [
    "> **II. Random Forest**"
   ]
  },
  {
   "cell_type": "markdown",
   "id": "f7d13eae",
   "metadata": {},
   "source": [
    "> Step 5: Training the Random Forest Model <br>\n",
    "> Step 6: Predicting and classifying the output by converting actual delay time to binary classes for evaluation"
   ]
  },
  {
   "cell_type": "code",
   "execution_count": 11,
   "id": "ba07372e",
   "metadata": {},
   "outputs": [],
   "source": [
    "rf_model = RandomForestRegressor()\n",
    "rf_model.fit(X_train, y_train)\n",
    "\n",
    "rf_predictions = rf_model.predict(X_test)\n",
    "\n",
    "rf_predicted_classes = [1 if i > 0 else 0 for i in rf_predictions]\n",
    "\n",
    "actual_classes = [1 if i > 0 else 0 for i in y_test]"
   ]
  },
  {
   "cell_type": "markdown",
   "id": "295d06bc",
   "metadata": {},
   "source": [
    "> Step 7: Evaluating the model and printing the output"
   ]
  },
  {
   "cell_type": "code",
   "execution_count": 12,
   "id": "f3c7b19e",
   "metadata": {},
   "outputs": [
    {
     "name": "stdout",
     "output_type": "stream",
     "text": [
      "MSE: 38.8353749\n",
      "RMSE: 6.231803502999753\n",
      "Accuracy: 0.9742\n"
     ]
    }
   ],
   "source": [
    "rf_mse = mean_squared_error(y_test, rf_predictions)\n",
    "rf_rmse = np.sqrt(rf_mse)\n",
    "rf_accuracy = accuracy_score(actual_classes, rf_predicted_classes)\n",
    "\n",
    "print(f\"MSE: {rf_mse}\")\n",
    "print(f\"RMSE: {rf_rmse}\")\n",
    "print(f\"Accuracy: {rf_accuracy}\")"
   ]
  },
  {
   "cell_type": "markdown",
   "id": "3be1e869",
   "metadata": {},
   "source": [
    "> Using this algorithm and checking feature importance on weather conditions"
   ]
  },
  {
   "cell_type": "code",
   "execution_count": 24,
   "id": "42fb6123",
   "metadata": {},
   "outputs": [
    {
     "name": "stdout",
     "output_type": "stream",
     "text": [
      "Mean Squared Error: 2564.2447450146706\n"
     ]
    },
    {
     "data": {
      "image/png": "[encoded data removed]",
      "text/plain": [
       "<Figure size 1000x600 with 1 Axes>"
      ]
     },
     "metadata": {},
     "output_type": "display_data"
    }
   ],
   "source": [
    "from sklearn.preprocessing import OneHotEncoder\n",
    "\n",
    "# Feature Engineering\n",
    "data['Scheduled_Departure_Time'] = pd.to_datetime(data['Scheduled_Departure_Time'])\n",
    "data['Scheduled_Arrival_Time'] = pd.to_datetime(data['Scheduled_Arrival_Time'])\n",
    "data['hour_of_day'] = data['Scheduled_Departure_Time'].dt.hour  # Extract hour of day\n",
    "\n",
    "# Adding weather data as a placeholder\n",
    "data['weather_condition'] = np.random.choice(['Clear', 'Rainy', 'Snowy', 'Stormy'], size=len(data))\n",
    "\n",
    "# Prepare features and target\n",
    "features = data.drop(['Departure_Delay_Minutes'], axis=1)\n",
    "target = data['Departure_Delay_Minutes']\n",
    "\n",
    "# Encoding categorical variables\n",
    "encoder = OneHotEncoder()\n",
    "encoded_features = encoder.fit_transform(features[['weather_condition']])\n",
    "\n",
    "# Split the data into training and testing sets\n",
    "X_train, X_test, y_train, y_test = train_test_split(encoded_features, target, test_size=0.2, random_state=42)\n",
    "\n",
    "# Model Training using Random Forest\n",
    "rf_model = RandomForestRegressor(n_estimators=100, random_state=42)\n",
    "rf_model.fit(X_train, y_train)\n",
    "\n",
    "# Predicting the delay minutes\n",
    "rf_predictions = rf_model.predict(X_test)\n",
    "rf_mse = mean_squared_error(y_test, rf_predictions)\n",
    "print(f'Mean Squared Error: {rf_mse}')\n",
    "\n",
    "# Visualize feature importances\n",
    "feature_names = encoder.get_feature_names_out(['weather_condition'])\n",
    "importances = rf_model.feature_importances_\n",
    "sorted_indices = np.argsort(importances)[::-1]\n",
    "\n",
    "plt.figure(figsize=(10, 6))\n",
    "plt.title('Random Forest Feature Importances')\n",
    "plt.bar(range(len(importances)), importances[sorted_indices], align='center')\n",
    "plt.xticks(range(len(importances)), feature_names[sorted_indices], rotation=90)\n",
    "plt.xlabel('Feature')\n",
    "plt.ylabel('Importance')\n",
    "plt.tight_layout()\n",
    "plt.show()"
   ]
  },
  {
   "cell_type": "markdown",
   "id": "5fea53ca",
   "metadata": {},
   "source": [
    "> **III. Graident Boosting**"
   ]
  },
  {
   "cell_type": "markdown",
   "id": "d1c39dea",
   "metadata": {},
   "source": [
    "> Step 5: Training the Gradient Boosting Model <br>\n",
    "> Step 6: Predicting and classifying the output by converting actual delay time to binary classes for evaluation"
   ]
  },
  {
   "cell_type": "code",
   "execution_count": 13,
   "id": "83e283c7",
   "metadata": {},
   "outputs": [],
   "source": [
    "gb_model = GradientBoostingRegressor()\n",
    "gb_model.fit(X_train, y_train)\n",
    "\n",
    "gb_predictions = gb_model.predict(X_test)\n",
    "\n",
    "gb_predicted_classes = [1 if i > 0 else 0 for i in gb_predictions]\n",
    "\n",
    "actual_classes = [1 if i > 0 else 0 for i in y_test]"
   ]
  },
  {
   "cell_type": "markdown",
   "id": "cc76cffb",
   "metadata": {},
   "source": [
    "> Step 7: Evaluating the model and printing the output"
   ]
  },
  {
   "cell_type": "code",
   "execution_count": 14,
   "id": "870c571a",
   "metadata": {},
   "outputs": [
    {
     "name": "stdout",
     "output_type": "stream",
     "text": [
      "MSE: 62.82806859820414\n",
      "RMSE: 7.926415873407358\n",
      "Accuracy: 0.9156\n"
     ]
    }
   ],
   "source": [
    "gb_mse = mean_squared_error(y_test, gb_predictions)\n",
    "gb_rmse = np.sqrt(gb_mse)\n",
    "gb_accuracy = accuracy_score(actual_classes, gb_predicted_classes)\n",
    "\n",
    "print(f\"MSE: {gb_mse}\")\n",
    "print(f\"RMSE: {gb_rmse}\")\n",
    "print(f\"Accuracy: {gb_accuracy}\")"
   ]
  },
  {
   "cell_type": "markdown",
   "id": "b4e04c93",
   "metadata": {},
   "source": [
    "> Using this algorithm and checking feature importance on weather conditions"
   ]
  },
  {
   "cell_type": "code",
   "execution_count": 25,
   "id": "788fdc4e",
   "metadata": {},
   "outputs": [
    {
     "name": "stdout",
     "output_type": "stream",
     "text": [
      "Mean Squared Error: 2563.9709448247922\n"
     ]
    },
    {
     "data": {
      "image/png": "[encoded data removed]",
      "text/plain": [
       "<Figure size 1000x600 with 1 Axes>"
      ]
     },
     "metadata": {},
     "output_type": "display_data"
    }
   ],
   "source": [
    "# Feature Engineering\n",
    "data['Scheduled_Departure_Time'] = pd.to_datetime(data['Scheduled_Departure_Time'])\n",
    "data['Scheduled_Arrival_Time'] = pd.to_datetime(data['Scheduled_Arrival_Time'])\n",
    "data['hour_of_day'] = data['Scheduled_Departure_Time'].dt.hour  # Extract hour of day\n",
    "\n",
    "# Adding weather data as a placeholder\n",
    "data['weather_condition'] = np.random.choice(['Clear', 'Rainy', 'Snowy', 'Stormy'], size=len(data))\n",
    "\n",
    "# Prepare features and target\n",
    "features = data.drop(['Departure_Delay_Minutes'], axis=1)\n",
    "target = data['Departure_Delay_Minutes']\n",
    "\n",
    "# Encoding categorical variables\n",
    "encoder = OneHotEncoder()\n",
    "encoded_features = encoder.fit_transform(features[['weather_condition']])\n",
    "\n",
    "# Split the data into training and testing sets\n",
    "X_train, X_test, y_train, y_test = train_test_split(encoded_features, target, test_size=0.2, random_state=42)\n",
    "\n",
    "# Model Training using Gradient Boosting\n",
    "gb_model = GradientBoostingRegressor(n_estimators=100, learning_rate=0.1, random_state=42)\n",
    "gb_model.fit(X_train, y_train)\n",
    "\n",
    "# Predicting the delay minutes\n",
    "gb_predictions = gb_model.predict(X_test)\n",
    "gb_mse = mean_squared_error(y_test, gb_predictions)\n",
    "print(f'Mean Squared Error: {gb_mse}')\n",
    "\n",
    "# Visualize feature importances\n",
    "feature_names = encoder.get_feature_names_out(['weather_condition'])\n",
    "importances = gb_model.feature_importances_\n",
    "sorted_indices = np.argsort(importances)[::-1]\n",
    "\n",
    "plt.figure(figsize=(10, 6))\n",
    "plt.title('Gradient Boosting Feature Importances')\n",
    "plt.bar(range(len(importances)), importances[sorted_indices], align='center')\n",
    "plt.xticks(range(len(importances)), feature_names[sorted_indices], rotation=90)\n",
    "plt.xlabel('Feature')\n",
    "plt.ylabel('Importance')\n",
    "plt.tight_layout()\n",
    "plt.show()"
   ]
  },
  {
   "cell_type": "code",
   "execution_count": null,
   "id": "7aa958bc",
   "metadata": {},
   "outputs": [],
   "source": []
  }
 ],
 "metadata": {
  "kernelspec": {
   "display_name": "Python 3 (ipykernel)",
   "language": "python",
   "name": "python3"
  },
  "language_info": {
   "codemirror_mode": {
    "name": "ipython",
    "version": 3
   },
   "file_extension": ".py",
   "mimetype": "text/x-python",
   "name": "python",
   "nbconvert_exporter": "python",
   "pygments_lexer": "ipython3",
   "version": "3.11.5"
  }
 },
 "nbformat": 4,
 "nbformat_minor": 5
}
